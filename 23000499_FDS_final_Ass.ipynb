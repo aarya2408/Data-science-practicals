{
 "cells": [
  {
   "cell_type": "code",
   "execution_count": 1,
   "id": "8ec592c5-ae9c-4dbe-b53c-a429ee452532",
   "metadata": {},
   "outputs": [],
   "source": [
    "import pandas as pd "
   ]
  },
  {
   "cell_type": "code",
   "execution_count": 2,
   "id": "63d53e08-d2b5-4127-9822-19cc2409d87e",
   "metadata": {},
   "outputs": [],
   "source": [
    "#Q1\n",
    "#create the dataframe \n",
    "data = {\n",
    "    ('Sales', 'Online'): [1000, 1200, 1300, 1100, 1400, 1500, 1600, 1700],\n",
    "    ('Sales', 'In-Store'): [800, 900, 950, 870, 930, 920, 980, 970],\n",
    "    ('Expenses', 'Online'): [500, 600, 700, 550, 650, 680, 720, 750],\n",
    "    ('Expenses', 'In-Store'): [300, 400, 450, 370, 430, 420, 480, 470]\n",
    "}\n",
    "quarters = ['Q1 2021', 'Q2 2021', 'Q3 2021', 'Q4 2021', 'Q1 2022', 'Q2 2022', 'Q3 2022', 'Q4 2022']\n",
    "financial_data = pd.DataFrame(data, index=quarters)\n"
   ]
  },
  {
   "cell_type": "code",
   "execution_count": 5,
   "id": "66a105ee-e518-4a7d-8cce-2c2d82a15000",
   "metadata": {},
   "outputs": [
    {
     "data": {
      "text/plain": [
       "['Q1 2021',\n",
       " 'Q2 2021',\n",
       " 'Q3 2021',\n",
       " 'Q4 2021',\n",
       " 'Q1 2022',\n",
       " 'Q2 2022',\n",
       " 'Q3 2022',\n",
       " 'Q4 2022']"
      ]
     },
     "execution_count": 5,
     "metadata": {},
     "output_type": "execute_result"
    }
   ],
   "source": [
    "quarters"
   ]
  },
  {
   "cell_type": "code",
   "execution_count": 6,
   "id": "eba47233-e9a7-4785-8e92-ee910e16be27",
   "metadata": {},
   "outputs": [
    {
     "data": {
      "text/html": [
       "<div>\n",
       "<style scoped>\n",
       "    .dataframe tbody tr th:only-of-type {\n",
       "        vertical-align: middle;\n",
       "    }\n",
       "\n",
       "    .dataframe tbody tr th {\n",
       "        vertical-align: top;\n",
       "    }\n",
       "\n",
       "    .dataframe thead tr th {\n",
       "        text-align: left;\n",
       "    }\n",
       "</style>\n",
       "<table border=\"1\" class=\"dataframe\">\n",
       "  <thead>\n",
       "    <tr>\n",
       "      <th></th>\n",
       "      <th colspan=\"2\" halign=\"left\">Sales</th>\n",
       "      <th colspan=\"2\" halign=\"left\">Expenses</th>\n",
       "    </tr>\n",
       "    <tr>\n",
       "      <th></th>\n",
       "      <th>Online</th>\n",
       "      <th>In-Store</th>\n",
       "      <th>Online</th>\n",
       "      <th>In-Store</th>\n",
       "    </tr>\n",
       "  </thead>\n",
       "  <tbody>\n",
       "    <tr>\n",
       "      <th>Q1 2021</th>\n",
       "      <td>1000</td>\n",
       "      <td>800</td>\n",
       "      <td>500</td>\n",
       "      <td>300</td>\n",
       "    </tr>\n",
       "    <tr>\n",
       "      <th>Q2 2021</th>\n",
       "      <td>1200</td>\n",
       "      <td>900</td>\n",
       "      <td>600</td>\n",
       "      <td>400</td>\n",
       "    </tr>\n",
       "    <tr>\n",
       "      <th>Q3 2021</th>\n",
       "      <td>1300</td>\n",
       "      <td>950</td>\n",
       "      <td>700</td>\n",
       "      <td>450</td>\n",
       "    </tr>\n",
       "    <tr>\n",
       "      <th>Q4 2021</th>\n",
       "      <td>1100</td>\n",
       "      <td>870</td>\n",
       "      <td>550</td>\n",
       "      <td>370</td>\n",
       "    </tr>\n",
       "    <tr>\n",
       "      <th>Q1 2022</th>\n",
       "      <td>1400</td>\n",
       "      <td>930</td>\n",
       "      <td>650</td>\n",
       "      <td>430</td>\n",
       "    </tr>\n",
       "    <tr>\n",
       "      <th>Q2 2022</th>\n",
       "      <td>1500</td>\n",
       "      <td>920</td>\n",
       "      <td>680</td>\n",
       "      <td>420</td>\n",
       "    </tr>\n",
       "    <tr>\n",
       "      <th>Q3 2022</th>\n",
       "      <td>1600</td>\n",
       "      <td>980</td>\n",
       "      <td>720</td>\n",
       "      <td>480</td>\n",
       "    </tr>\n",
       "    <tr>\n",
       "      <th>Q4 2022</th>\n",
       "      <td>1700</td>\n",
       "      <td>970</td>\n",
       "      <td>750</td>\n",
       "      <td>470</td>\n",
       "    </tr>\n",
       "  </tbody>\n",
       "</table>\n",
       "</div>"
      ],
      "text/plain": [
       "         Sales          Expenses         \n",
       "        Online In-Store   Online In-Store\n",
       "Q1 2021   1000      800      500      300\n",
       "Q2 2021   1200      900      600      400\n",
       "Q3 2021   1300      950      700      450\n",
       "Q4 2021   1100      870      550      370\n",
       "Q1 2022   1400      930      650      430\n",
       "Q2 2022   1500      920      680      420\n",
       "Q3 2022   1600      980      720      480\n",
       "Q4 2022   1700      970      750      470"
      ]
     },
     "execution_count": 6,
     "metadata": {},
     "output_type": "execute_result"
    }
   ],
   "source": [
    "financial_data"
   ]
  },
  {
   "cell_type": "code",
   "execution_count": 7,
   "id": "679a5ded-fe5f-4171-8bed-746513e9a3fc",
   "metadata": {},
   "outputs": [],
   "source": [
    "# a) Online sales for Q1 2022\n",
    "online_sales_q1_2022 = financial_data.loc['Q1 2022', ('Sales', 'Online')]\n"
   ]
  },
  {
   "cell_type": "code",
   "execution_count": 8,
   "id": "0cfc6da8-35bb-4096-8372-b2b6a337059b",
   "metadata": {},
   "outputs": [
    {
     "data": {
      "text/plain": [
       "1400"
      ]
     },
     "execution_count": 8,
     "metadata": {},
     "output_type": "execute_result"
    }
   ],
   "source": [
    "online_sales_q1_2022"
   ]
  },
  {
   "cell_type": "code",
   "execution_count": 9,
   "id": "4786b743-7dd1-418a-bf69-dea8b148f319",
   "metadata": {},
   "outputs": [],
   "source": [
    "# b) In-store expenses in Q3 2021\n",
    "in_store_expenses_Q3_2021 = financial_data.loc['Q3 2021', ('Expenses', 'In-Store')]\n",
    "\n"
   ]
  },
  {
   "cell_type": "code",
   "execution_count": 10,
   "id": "1ad9dbe0-de1d-4638-973f-97850f6a2bd6",
   "metadata": {},
   "outputs": [
    {
     "data": {
      "text/plain": [
       "450"
      ]
     },
     "execution_count": 10,
     "metadata": {},
     "output_type": "execute_result"
    }
   ],
   "source": [
    "in_store_expenses_Q3_2021"
   ]
  },
  {
   "cell_type": "code",
   "execution_count": 11,
   "id": "5499144e-363e-4866-9fe5-59dc775ac5ac",
   "metadata": {},
   "outputs": [],
   "source": [
    "# c) Total sales for Q4 2021\n",
    "Total_sales_Q4_2021 = financial_data.loc['Q4 2021', ('Sales', 'Online')] + financial_data.loc['Q4 2021', ('Sales', 'In-Store')]\n"
   ]
  },
  {
   "cell_type": "code",
   "execution_count": 12,
   "id": "91c80a8a-95a3-46c2-9c55-8200a1b30ce1",
   "metadata": {},
   "outputs": [
    {
     "data": {
      "text/plain": [
       "1970"
      ]
     },
     "execution_count": 12,
     "metadata": {},
     "output_type": "execute_result"
    }
   ],
   "source": [
    "Total_sales_Q4_2021 "
   ]
  },
  {
   "cell_type": "code",
   "execution_count": 13,
   "id": "ad8bfe0e-333c-4b58-81c7-3981c75f189e",
   "metadata": {},
   "outputs": [],
   "source": [
    "# d) Expenses for online channel in 2022\n",
    "online_expenses_2022 = financial_data.loc[['Q1 2022', 'Q2 2022', 'Q3 2022', 'Q4 2022'], ('Expenses', 'Online')].sum()\n",
    "\n"
   ]
  },
  {
   "cell_type": "code",
   "execution_count": 14,
   "id": "cbdebb7d-3156-46b4-960c-747522a17d96",
   "metadata": {},
   "outputs": [
    {
     "data": {
      "text/plain": [
       "2800"
      ]
     },
     "execution_count": 14,
     "metadata": {},
     "output_type": "execute_result"
    }
   ],
   "source": [
    "online_expenses_2022 "
   ]
  },
  {
   "cell_type": "code",
   "execution_count": 15,
   "id": "91a53531-af16-4b8e-b59c-95b6f00f88cc",
   "metadata": {},
   "outputs": [],
   "source": [
    "# e) Sales data for Q2 2021\n",
    "Sales_Q2_2021 = financial_data.loc['Q2 2021', 'Sales']\n",
    "\n"
   ]
  },
  {
   "cell_type": "code",
   "execution_count": 16,
   "id": "3e0ae720-7f15-4ef2-a474-abd2eae26bcc",
   "metadata": {},
   "outputs": [
    {
     "data": {
      "text/plain": [
       "Online      1200\n",
       "In-Store     900\n",
       "Name: Q2 2021, dtype: int64"
      ]
     },
     "execution_count": 16,
     "metadata": {},
     "output_type": "execute_result"
    }
   ],
   "source": [
    "Sales_Q2_2021"
   ]
  },
  {
   "cell_type": "code",
   "execution_count": 17,
   "id": "276f68ac-4719-4478-938c-2c2d5eb05c64",
   "metadata": {},
   "outputs": [],
   "source": [
    "# f) Maximum expense recorded in 2022\n",
    "Max_expense_2022 = financial_data.loc[['Q1 2022', 'Q2 2022', 'Q3 2022', 'Q4 2022'], 'Expenses'].max().max()\n",
    "\n"
   ]
  },
  {
   "cell_type": "code",
   "execution_count": 18,
   "id": "9fb55cf4-9cf8-4e45-b517-189e035bc067",
   "metadata": {},
   "outputs": [
    {
     "data": {
      "text/plain": [
       "750"
      ]
     },
     "execution_count": 18,
     "metadata": {},
     "output_type": "execute_result"
    }
   ],
   "source": [
    "Max_expense_2022"
   ]
  },
  {
   "cell_type": "code",
   "execution_count": 19,
   "id": "5bd2d97f-a239-4e6c-b2de-0a33da60784f",
   "metadata": {},
   "outputs": [
    {
     "name": "stdout",
     "output_type": "stream",
     "text": [
      "Store    Product         \n",
      "Store 1  Product A  Sales    300\n",
      "Store 2  Product B  Sales    230\n",
      "Store 3  Product C  Sales    450\n",
      "dtype: int64\n"
     ]
    }
   ],
   "source": [
    "#Q2\n",
    "# Sample DataFrame\n",
    "data = {\n",
    "    'Store': ['Store 1', 'Store 2', 'Store 3'],\n",
    "    'Product': ['Product A', 'Product B', 'Product C'],\n",
    "    'Sales': [300, 230, 450]\n",
    "}\n",
    "df = pd.DataFrame(data)\n",
    "\n",
    "# Stacking the DataFrame\n",
    "stacked_df = df.set_index(['Store', 'Product']).stack()\n",
    "print(stacked_df)"
   ]
  },
  {
   "cell_type": "code",
   "execution_count": 20,
   "id": "ceae1c43-400a-4374-94b9-90c4656020d0",
   "metadata": {},
   "outputs": [
    {
     "name": "stdout",
     "output_type": "stream",
     "text": [
      "                   Sales\n",
      "Store   Product         \n",
      "Store 1 Product A    300\n",
      "Store 2 Product B    230\n",
      "Store 3 Product C    450\n"
     ]
    }
   ],
   "source": [
    "#Q3\n",
    "# Unstacking the stacked DataFrame\n",
    "unstacked_df = stacked_df.unstack()\n",
    "print(unstacked_df)"
   ]
  },
  {
   "cell_type": "code",
   "execution_count": 21,
   "id": "a689afc0-6f74-42b8-ab51-3634c4b79571",
   "metadata": {},
   "outputs": [
    {
     "name": "stdout",
     "output_type": "stream",
     "text": [
      "                     Employee\n",
      "Department Role              \n",
      "Sales      Manager      Rohan\n",
      "           Executive   rachel\n",
      "HR         Manager        Bob\n",
      "           Executive      Eve\n"
     ]
    }
   ],
   "source": [
    "#Q4\n",
    "# Creating a sample DataFrame with Multi-Index\n",
    "index = pd.MultiIndex.from_tuples([\n",
    "    ('Sales', 'Manager'), \n",
    "    ('Sales', 'Executive'), \n",
    "    ('HR', 'Manager'), \n",
    "    ('HR', 'Executive')\n",
    "], names=['Department', 'Role'])\n",
    "\n",
    "df = pd.DataFrame({'Employee': ['Rohan', 'rachel', 'Bob', 'Eve']}, index=index)\n",
    "print(df)"
   ]
  },
  {
   "cell_type": "code",
   "execution_count": 22,
   "id": "066d2872-9b0e-4d89-bfcd-c461b86f7f9c",
   "metadata": {},
   "outputs": [
    {
     "name": "stdout",
     "output_type": "stream",
     "text": [
      "          Employee\n",
      "Role              \n",
      "Manager      Rohan\n",
      "Executive   rachel\n"
     ]
    }
   ],
   "source": [
    "#Q5\n",
    "# Accessing employees from a specific department (e.g., Sales)\n",
    "sales_employees = df.xs('Sales')\n",
    "print(sales_employees)"
   ]
  },
  {
   "cell_type": "code",
   "execution_count": 23,
   "id": "81d09314-97f7-4234-922a-92e2b6b73792",
   "metadata": {},
   "outputs": [
    {
     "name": "stdout",
     "output_type": "stream",
     "text": [
      "  Student  Subject  Grade\n",
      "0   Aditi     Math     80\n",
      "2    sera     Math     95\n",
      "1    riya  Science     82\n",
      "3   Daksh  Science     93\n"
     ]
    }
   ],
   "source": [
    "#Q6\n",
    "# Sample DataFrame of student grades\n",
    "grades_data = {\n",
    "    'Student': ['Aditi', 'riya', 'sera', 'Daksh'],\n",
    "    'Subject': ['Math', 'Science', 'Math', 'Science'],\n",
    "    'Grade': [80, 82, 95, 93]\n",
    "}\n",
    "grades_df = pd.DataFrame(grades_data)\n",
    "\n",
    "# Sorting by Subject and Grade\n",
    "sorted_grades_df = grades_df.sort_values(by=['Subject', 'Grade'])\n",
    "print(sorted_grades_df)"
   ]
  },
  {
   "cell_type": "code",
   "execution_count": 24,
   "id": "cf2e4d72-a1a4-4bed-b117-21a43b75b546",
   "metadata": {},
   "outputs": [
    {
     "name": "stdout",
     "output_type": "stream",
     "text": [
      "  Student  Subject  Grade\n",
      "0   Aditi     Math     80\n",
      "1    sera     Math     95\n",
      "2    riya  Science     82\n",
      "3   Daksh  Science     93\n"
     ]
    }
   ],
   "source": [
    "#Q7\n",
    "# Resetting the index\n",
    "reset_grades_df = sorted_grades_df.reset_index(drop=True)\n",
    "print(reset_grades_df)"
   ]
  },
  {
   "cell_type": "code",
   "execution_count": 25,
   "id": "0eae9e78-9a71-4055-a2b3-13f473665787",
   "metadata": {},
   "outputs": [
    {
     "name": "stdout",
     "output_type": "stream",
     "text": [
      "            Temperature\n",
      "Date                   \n",
      "2024-01-01           30\n",
      "2024-01-02           34\n",
      "2024-01-03           41\n"
     ]
    }
   ],
   "source": [
    "#Q8\n",
    "# Sample DataFrame with a Date column\n",
    "weather_data = {\n",
    "    'Date': ['2024-01-01', '2024-01-02', '2024-01-03'],\n",
    "    'Temperature': [30, 34, 41]\n",
    "}\n",
    "weather_df = pd.DataFrame(weather_data)\n",
    "\n",
    "# Setting the Date column as the index\n",
    "weather_df['Date'] = pd.to_datetime(weather_df['Date'])\n",
    "weather_df.set_index('Date', inplace=True)\n",
    "print(weather_df)"
   ]
  },
  {
   "cell_type": "code",
   "execution_count": 26,
   "id": "d36eac8f-f6fd-4040-8b63-7d00f8dbf569",
   "metadata": {},
   "outputs": [
    {
     "name": "stdout",
     "output_type": "stream",
     "text": [
      "     Store    Product  Sales\n",
      "0  Store 1  Product A    300\n",
      "1  Store 1  Product B    230\n",
      "2  Store 2  Product A    450\n"
     ]
    }
   ],
   "source": [
    "#Q9\n",
    "# Sample Multi-Index DataFrame\n",
    "multi_index_data = pd.DataFrame(\n",
    "    {'Sales': [300, 230, 450]},\n",
    "    index=pd.MultiIndex.from_tuples(\n",
    "        [('Store 1', 'Product A'), ('Store 1', 'Product B'), ('Store 2', 'Product A')],\n",
    "        names=['Store', 'Product']\n",
    "    )\n",
    ")\n",
    "\n",
    "# Flattening the multi-index\n",
    "flattened_df = multi_index_data.reset_index()\n",
    "print(flattened_df)"
   ]
  },
  {
   "cell_type": "code",
   "execution_count": 27,
   "id": "098d4c56-5a9d-4c50-8a4e-1cda5a2f9fac",
   "metadata": {},
   "outputs": [
    {
     "name": "stdout",
     "output_type": "stream",
     "text": [
      "             Price\n",
      "Category          \n",
      "Clothing      50.0\n",
      "Electronics   27.5\n"
     ]
    }
   ],
   "source": [
    "#Q10\n",
    "# Sample DataFrame with Category and Product as Multi-Index\n",
    "category_product_data = pd.DataFrame(\n",
    "    {'Price': [20, 35, 40, 60]},\n",
    "    index=pd.MultiIndex.from_tuples(\n",
    "        [('Electronics', 'Tablet'), ('Electronics', 'Laptop'), ('Clothing', 'Shirt'), ('Clothing', 'Kurtas')],\n",
    "        names=['Category', 'Product']\n",
    "    )\n",
    ")\n",
    "\n",
    "# Averaging at the Category level\n",
    "average_by_category = category_product_data.groupby(level='Category').mean()\n",
    "print(average_by_category)"
   ]
  },
  {
   "cell_type": "code",
   "execution_count": null,
   "id": "acac6750-d1ab-483f-be4b-080dddf04afe",
   "metadata": {},
   "outputs": [],
   "source": []
  }
 ],
 "metadata": {
  "kernelspec": {
   "display_name": "Python 3 (ipykernel)",
   "language": "python",
   "name": "python3"
  },
  "language_info": {
   "codemirror_mode": {
    "name": "ipython",
    "version": 3
   },
   "file_extension": ".py",
   "mimetype": "text/x-python",
   "name": "python",
   "nbconvert_exporter": "python",
   "pygments_lexer": "ipython3",
   "version": "3.12.4"
  }
 },
 "nbformat": 4,
 "nbformat_minor": 5
}
